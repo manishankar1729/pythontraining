{
 "cells": [
  {
   "cell_type": "code",
   "execution_count": 6,
   "id": "e53f1bab-4e29-436b-9df3-fa2816a863b7",
   "metadata": {
    "scrolled": true
   },
   "outputs": [
    {
     "name": "stdout",
     "output_type": "stream",
     "text": [
      "is_classifier\n",
      "is_regressor\n",
      "is_classifier\n",
      "is_regressor\n",
      "is_classifier\n",
      "is_regressor\n"
     ]
    },
    {
     "name": "stderr",
     "output_type": "stream",
     "text": [
      "c:\\Users\\satyamanishankar\\python3.12\\Lib\\site-packages\\sklearn\\base.py:1230: FutureWarning: passing a class to None is deprecated and will be removed in 1.8. Use an instance of the class instead.\n",
      "  warnings.warn(\n",
      "c:\\Users\\satyamanishankar\\python3.12\\Lib\\site-packages\\sklearn\\base.py:1270: FutureWarning: passing a class to None is deprecated and will be removed in 1.8. Use an instance of the class instead.\n",
      "  warnings.warn(\n"
     ]
    },
    {
     "name": "stdout",
     "output_type": "stream",
     "text": [
      "is_classifier\n",
      "is_classifier\n",
      "is_classifier\n",
      "is_classifier\n",
      "is_regressor\n",
      "is_classifier\n",
      "is_regressor\n",
      "is_classifier\n",
      "is_regressor\n",
      "is_classifier\n",
      "is_regressor\n",
      "is_classifier\n",
      "is_regressor\n",
      "is_classifier\n",
      "is_regressor\n",
      "is_classifier\n",
      "is_regressor\n",
      "is_classifier\n",
      "is_classifier\n",
      "is_classifier\n",
      "is_classifier\n",
      "is_classifier\n",
      "is_classifier\n",
      "is_classifier\n",
      "is_classifier\n",
      "is_regressor\n",
      "is_classifier\n",
      "is_regressor\n",
      "is_classifier\n",
      "is_regressor\n",
      "is_classifier\n",
      "is_regressor\n",
      "is_classifier\n",
      "is_regressor\n",
      "is_classifier\n",
      "is_regressor\n",
      "is_classifier\n",
      "is_regressor\n",
      "is_classifier\n",
      "is_classifier\n",
      "is_classifier\n",
      "is_regressor\n",
      "is_classifier\n",
      "is_regressor\n",
      "is_classifier\n"
     ]
    },
    {
     "name": "stderr",
     "output_type": "stream",
     "text": [
      "Version 0.12.2 of tpot is outdated. Version 1.0.0 was released Wednesday February 26, 2025.\n"
     ]
    },
    {
     "data": {
      "application/vnd.jupyter.widget-view+json": {
       "model_id": "140d58ac1702462c9b988a3d832fb444",
       "version_major": 2,
       "version_minor": 0
      },
      "text/plain": [
       "Optimization Progress:   0%|          | 0/120 [00:00<?, ?pipeline/s]"
      ]
     },
     "metadata": {},
     "output_type": "display_data"
    },
    {
     "name": "stdout",
     "output_type": "stream",
     "text": [
      "\n",
      "Generation 1 - Current best internal CV score: 0.8131685216192258\n",
      "\n",
      "Generation 2 - Current best internal CV score: 0.8244361272530287\n"
     ]
    },
    {
     "name": "stderr",
     "output_type": "stream",
     "text": [
      "  File \"c:\\Users\\satyamanishankar\\python3.12\\Lib\\site-packages\\joblib\\externals\\loky\\backend\\context.py\", line 257, in _count_physical_cores\n",
      "    cpu_info = subprocess.run(\n",
      "               ^^^^^^^^^^^^^^^\n",
      "  File \"c:\\Users\\satyamanishankar\\python3.12\\Lib\\subprocess.py\", line 548, in run\n",
      "    with Popen(*popenargs, **kwargs) as process:\n",
      "         ^^^^^^^^^^^^^^^^^^^^^^^^^^^\n",
      "  File \"c:\\Users\\satyamanishankar\\python3.12\\Lib\\subprocess.py\", line 1026, in __init__\n",
      "    self._execute_child(args, executable, preexec_fn, close_fds,\n",
      "  File \"c:\\Users\\satyamanishankar\\python3.12\\Lib\\subprocess.py\", line 1538, in _execute_child\n",
      "    hp, ht, pid, tid = _winapi.CreateProcess(executable, args,\n",
      "                       ^^^^^^^^^^^^^^^^^^^^^^^^^^^^^^^^^^^^^^^\n"
     ]
    },
    {
     "name": "stdout",
     "output_type": "stream",
     "text": [
      "\n",
      "Generation 3 - Current best internal CV score: 0.8244361272530287\n",
      "\n",
      "Generation 4 - Current best internal CV score: 0.8244361272530287\n",
      "\n",
      "Generation 5 - Current best internal CV score: 0.8244361272530287\n",
      "\n",
      "Best pipeline: ExtraTreesClassifier(RandomForestClassifier(input_matrix, bootstrap=False, criterion=gini, max_features=0.4, min_samples_leaf=10, min_samples_split=4, n_estimators=100), bootstrap=False, criterion=entropy, max_features=0.35000000000000003, min_samples_leaf=18, min_samples_split=9, n_estimators=100)\n",
      "Best Model Test Score: 0.8212\n",
      "Predictions saved to titanic_predictions.csv\n"
     ]
    },
    {
     "name": "stderr",
     "output_type": "stream",
     "text": [
      "c:\\Users\\satyamanishankar\\python3.12\\Lib\\site-packages\\sklearn\\utils\\validation.py:2739: UserWarning: X does not have valid feature names, but RandomForestClassifier was fitted with feature names\n",
      "  warnings.warn(\n",
      "c:\\Users\\satyamanishankar\\python3.12\\Lib\\site-packages\\sklearn\\utils\\validation.py:2739: UserWarning: X does not have valid feature names, but RandomForestClassifier was fitted with feature names\n",
      "  warnings.warn(\n",
      "c:\\Users\\satyamanishankar\\python3.12\\Lib\\site-packages\\sklearn\\utils\\validation.py:2739: UserWarning: X does not have valid feature names, but RandomForestClassifier was fitted with feature names\n",
      "  warnings.warn(\n",
      "c:\\Users\\satyamanishankar\\python3.12\\Lib\\site-packages\\sklearn\\utils\\validation.py:2739: UserWarning: X does not have valid feature names, but RandomForestClassifier was fitted with feature names\n",
      "  warnings.warn(\n"
     ]
    }
   ],
   "source": [
    "import pandas as pd\n",
    "import numpy as np\n",
    "from sklearn.model_selection import train_test_split\n",
    "from sklearn.preprocessing import LabelEncoder\n",
    "from tpot import TPOTClassifier\n",
    "\n",
    "# Load datasets\n",
    "train_df = pd.read_csv(r\"C:\\Users\\satyamanishankar\\handson\\code\\data\\train.csv\")\n",
    "test_df = pd.read_csv(r\"C:\\Users\\satyamanishankar\\handson\\code\\data\\test.csv\")\n",
    "\n",
    "# Rename target variable for TPOT compatibility\n",
    "train_df.rename(columns={'Survived': 'class'}, inplace=True)\n",
    "\n",
    "# Drop high-cardinality categorical features\n",
    "drop_cols = ['Name', 'Ticket', 'Cabin']\n",
    "train_df = train_df.drop(columns=[col for col in drop_cols if col in train_df.columns], errors='ignore')\n",
    "test_df = test_df.drop(columns=[col for col in drop_cols if col in test_df.columns], errors='ignore')\n",
    "\n",
    "# Encode categorical variables\n",
    "label_enc = LabelEncoder()\n",
    "for col in ['Sex', 'Embarked']:\n",
    "    if col in train_df.columns:\n",
    "        train_df[col] = label_enc.fit_transform(train_df[col].astype(str))\n",
    "        test_df[col] = label_enc.transform(test_df[col].astype(str))\n",
    "\n",
    "# Fill missing values with median\n",
    "train_df.fillna(train_df.median(numeric_only=True), inplace=True)\n",
    "test_df.fillna(test_df.median(numeric_only=True), inplace=True)\n",
    "\n",
    "# Split features and target\n",
    "X = train_df.drop(columns=['class'])\n",
    "y = train_df['class']\n",
    "\n",
    "# Split dataset for training/testing\n",
    "X_train, X_val, y_train, y_val = train_test_split(X, y, test_size=0.2, random_state=42)\n",
    "\n",
    "# Run TPOT to find the best model\n",
    "tpot = TPOTClassifier(generations=5, population_size=20, verbosity=2, random_state=42)\n",
    "tpot.fit(X_train, y_train)\n",
    "\n",
    "# Evaluate best model on validation set\n",
    "test_score = tpot.score(X_val, y_val)\n",
    "print(f\"Best Model Test Score: {test_score:.4f}\")\n",
    "\n",
    "# Export best pipeline\n",
    "tpot.export(\"best_tpot_pipeline.py\")\n",
    "\n",
    "# Predict on test set\n",
    "test_predictions = tpot.predict(test_df)\n",
    "\n",
    "# Save predictions\n",
    "submission = pd.DataFrame({'PassengerId': test_df['PassengerId'], 'Survived': test_predictions})\n",
    "submission.to_csv(\"titanic_predictions.csv\", index=False)\n",
    "print(\"Predictions saved to titanic_predictions.csv\")\n"
   ]
  },
  {
   "cell_type": "code",
   "execution_count": null,
   "id": "a0cb8a8f-2f50-438e-ac45-9c89c7f0a4aa",
   "metadata": {},
   "outputs": [],
   "source": []
  }
 ],
 "metadata": {
  "kernelspec": {
   "display_name": "Python 3 (ipykernel)",
   "language": "python",
   "name": "python3"
  },
  "language_info": {
   "codemirror_mode": {
    "name": "ipython",
    "version": 3
   },
   "file_extension": ".py",
   "mimetype": "text/x-python",
   "name": "python",
   "nbconvert_exporter": "python",
   "pygments_lexer": "ipython3",
   "version": "3.12.8"
  }
 },
 "nbformat": 4,
 "nbformat_minor": 5
}
