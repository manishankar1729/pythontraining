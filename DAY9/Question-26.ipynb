{
 "cells": [
  {
   "cell_type": "code",
   "execution_count": 7,
   "id": "e4787032-5c2d-4d2a-ae8d-10888ebf3030",
   "metadata": {},
   "outputs": [
    {
     "name": "stderr",
     "output_type": "stream",
     "text": [
      "C:\\Users\\satyamanishankar\\AppData\\Local\\Temp\\ipykernel_33812\\4146030872.py:21: FutureWarning: A value is trying to be set on a copy of a DataFrame or Series through chained assignment using an inplace method.\n",
      "The behavior will change in pandas 3.0. This inplace method will never work because the intermediate object on which we are setting values always behaves as a copy.\n",
      "\n",
      "For example, when doing 'df[col].method(value, inplace=True)', try using 'df.method({col: value}, inplace=True)' or df[col] = df[col].method(value) instead, to perform the operation inplace on the original object.\n",
      "\n",
      "\n",
      "  df[\"job_type\"].fillna(\"Unknown\", inplace=True)\n"
     ]
    },
    {
     "name": "stdout",
     "output_type": "stream",
     "text": [
      "Decision Tree Accuracy: 0.3368\n",
      "Random Forest Accuracy: 0.3567\n",
      "Extra Trees Accuracy: 0.3436\n",
      "AdaBoost Accuracy: 0.3694\n",
      "Gradient Boosting Accuracy: 0.4257\n",
      "\n",
      "Best Model: Gradient Boosting with Accuracy: 0.4257\n",
      "Final Model Accuracy on Test Data: 0.4257\n"
     ]
    }
   ],
   "source": [
    "import pandas as pd\n",
    "import numpy as np\n",
    "from sklearn.model_selection import train_test_split\n",
    "from sklearn.preprocessing import LabelEncoder\n",
    "from sklearn.tree import DecisionTreeClassifier\n",
    "from sklearn.ensemble import RandomForestClassifier, ExtraTreesClassifier, AdaBoostClassifier, GradientBoostingClassifier\n",
    "from sklearn.metrics import accuracy_score\n",
    "\n",
    "# Load dataset\n",
    "#file_path = \"C:\\Users\\satyamanishankar\\handson\\code\\data\\Predict-The-Data-Scientists-Salary-In-India_Train_Dataset.csv\"\n",
    "df = pd.read_csv(r\"C:\\Users\\satyamanishankar\\handson\\code\\data\\Predict-The-Data-Scientists-Salary-In-India_Train_Dataset.csv\")\n",
    "\n",
    "# Drop unnecessary columns\n",
    "df.drop(columns=[\"Unnamed: 0\", \"job_description\", \"key_skills\"], inplace=True)\n",
    "\n",
    "# Split 'experience' into min and max experience\n",
    "df[['min_experience', 'max_experience']] = df['experience'].str.extract(r'(\\d+)-(\\d+)').astype(float)\n",
    "df.drop(columns=[\"experience\"], inplace=True)\n",
    "\n",
    "# Fill missing values in job_type with \"Unknown\"\n",
    "df[\"job_type\"].fillna(\"Unknown\", inplace=True)\n",
    "\n",
    "# Label Encoding for categorical variables\n",
    "le = LabelEncoder()\n",
    "df[\"location\"] = le.fit_transform(df[\"location\"])\n",
    "df[\"job_type\"] = le.fit_transform(df[\"job_type\"])\n",
    "df[\"job_desig\"] = le.fit_transform(df[\"job_desig\"])  # Encode job designation\n",
    "df[\"salary\"] = le.fit_transform(df[\"salary\"])  # Encode target variable\n",
    "\n",
    "# Split into features (X) and target (y)\n",
    "X = df.drop(columns=[\"salary\"])\n",
    "y = df[\"salary\"]\n",
    "X_train, X_test, y_train, y_test = train_test_split(X, y, test_size=0.2, random_state=42)\n",
    "\n",
    "# Define classifiers (Reduced estimators for faster execution)\n",
    "classifiers = {\n",
    "    \"Decision Tree\": DecisionTreeClassifier(),\n",
    "    \"Random Forest\": RandomForestClassifier(n_estimators=50),\n",
    "    \"Extra Trees\": ExtraTreesClassifier(n_estimators=50),\n",
    "    \"AdaBoost\": AdaBoostClassifier(n_estimators=50),\n",
    "    \"Gradient Boosting\": GradientBoostingClassifier(n_estimators=50)\n",
    "}\n",
    "\n",
    "# Evaluate models using train-test split\n",
    "best_score = 0\n",
    "best_model = None\n",
    "best_clf = None\n",
    "\n",
    "for name, clf in classifiers.items():\n",
    "    clf.fit(X_train, y_train)  # Train model\n",
    "    score = clf.score(X_test, y_test)  # Test accuracy\n",
    "    print(f\"{name} Accuracy: {score:.4f}\")\n",
    "\n",
    "    if score > best_score:\n",
    "        best_score = score\n",
    "        best_model = name\n",
    "        best_clf = clf\n",
    "\n",
    "print(f\"\\nBest Model: {best_model} with Accuracy: {best_score:.4f}\")\n",
    "\n",
    "# --- Final Model Selection & Prediction ---\n",
    "y_pred = best_clf.predict(X_test)  # Predict on test data\n",
    "\n",
    "# Evaluate final model\n",
    "final_accuracy = accuracy_score(y_test, y_pred)\n",
    "print(f\"Final Model Accuracy on Test Data: {final_accuracy:.4f}\")\n"
   ]
  },
  {
   "cell_type": "code",
   "execution_count": null,
   "id": "25f1abee-7838-46a0-9489-54a42ea8f800",
   "metadata": {},
   "outputs": [],
   "source": []
  }
 ],
 "metadata": {
  "kernelspec": {
   "display_name": "Python 3 (ipykernel)",
   "language": "python",
   "name": "python3"
  },
  "language_info": {
   "codemirror_mode": {
    "name": "ipython",
    "version": 3
   },
   "file_extension": ".py",
   "mimetype": "text/x-python",
   "name": "python",
   "nbconvert_exporter": "python",
   "pygments_lexer": "ipython3",
   "version": "3.12.8"
  }
 },
 "nbformat": 4,
 "nbformat_minor": 5
}
